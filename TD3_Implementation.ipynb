{
  "nbformat": 4,
  "nbformat_minor": 0,
  "metadata": {
    "colab": {
      "name": "TD3_Implementation.ipynb",
      "provenance": [],
      "collapsed_sections": [],
      "authorship_tag": "ABX9TyPewFPclSLtd7lBRPbZv8oW",
      "include_colab_link": true
    },
    "kernelspec": {
      "name": "python3",
      "display_name": "Python 3"
    }
  },
  "cells": [
    {
      "cell_type": "markdown",
      "metadata": {
        "id": "view-in-github",
        "colab_type": "text"
      },
      "source": [
        "<a href=\"https://colab.research.google.com/github/Ashish-Tripathy/TD3-Twin-Delayed-DDPG/blob/master/TD3_Implementation.ipynb\" target=\"_parent\"><img src=\"https://colab.research.google.com/assets/colab-badge.svg\" alt=\"Open In Colab\"/></a>"
      ]
    },
    {
      "cell_type": "code",
      "metadata": {
        "id": "l1hIWhC9m2Gz",
        "colab_type": "code",
        "colab": {
          "base_uri": "https://localhost:8080/",
          "height": 124
        },
        "outputId": "5b8cccc5-ca46-460b-d4be-9bebbe712c4c"
      },
      "source": [
        "!pip3 install pybullet --upgrade"
      ],
      "execution_count": 3,
      "outputs": [
        {
          "output_type": "stream",
          "text": [
            "Collecting pybullet\n",
            "\u001b[?25l  Downloading https://files.pythonhosted.org/packages/d8/ac/a422ab8d1c57ab3f43e573b5a5f532e6afd348d81308fe66a1ecb691548e/pybullet-2.7.1-cp36-cp36m-manylinux1_x86_64.whl (95.0MB)\n",
            "\u001b[K     |████████████████████████████████| 95.0MB 40kB/s \n",
            "\u001b[?25hInstalling collected packages: pybullet\n",
            "Successfully installed pybullet-2.7.1\n"
          ],
          "name": "stdout"
        }
      ]
    },
    {
      "cell_type": "code",
      "metadata": {
        "id": "vHChufSHenwz",
        "colab_type": "code",
        "colab": {}
      },
      "source": [
        "import os\n",
        "import time\n",
        "import random\n",
        "import numpy as np\n",
        "import matplotlib.pyplot as plt\n",
        "import pybullet_envs\n",
        "import gym\n",
        "import torch\n",
        "import torch.nn as nn\n",
        "import torch.nn.functional as F\n",
        "from gym import wrappers\n",
        "from torch.autograd import Variable\n",
        "from collections import deque"
      ],
      "execution_count": 0,
      "outputs": []
    },
    {
      "cell_type": "markdown",
      "metadata": {
        "id": "q6feP33Wee_U",
        "colab_type": "text"
      },
      "source": [
        "# Step 1: Initialisation\n",
        "Initialise the Experience Replay memory and populate it with transitions."
      ]
    },
    {
      "cell_type": "code",
      "metadata": {
        "id": "tkjZ0xjgffH3",
        "colab_type": "code",
        "colab": {}
      },
      "source": [
        "class ReplayBuffer(object):\n",
        "  def __init__(self, max_size = 1e6):\n",
        "    self.storage = []\n",
        "    self.max_size = max_size\n",
        "    self.ptr = 0\n",
        "  \n",
        "  def add(self, transition):\n",
        "    if len(self.storage) == max_size:\n",
        "      self.storage[int(self.ptr)] = transition\n",
        "      self.ptr = (self.ptr+1)%max_size\n",
        "\n",
        "  def sample(self, batch_size):\n",
        "    ind = np.random.randint(0,len(self.storage), batch_size)\n",
        "    batch_states, batch_next_states, batch_actions, batch_rewards, batch_dones = [],[],[],[],[]\n",
        "    for i in ind:\n",
        "      state, next_state, action, reward, done = self.storage[i]\n",
        "      batch_states.append(np.array(state, copy=False))  \n",
        "      batch_next_states.append(np.array(next_state, copy=False))\n",
        "      batch_actions.append(np.array(action, copy=False))\n",
        "      batch_rewards.append(np.array(reward, copy=False))\n",
        "      batch_dones.append(np.array(done, copy=False))\n",
        "    return np.array(batch_states),np.array(batch_next_states),np.array(batch_actions), \\\n",
        "    np.array(batch_rewards).reshape(-1,1),np.array(batch_dones).reshape(-1,1)\n"
      ],
      "execution_count": 0,
      "outputs": []
    },
    {
      "cell_type": "markdown",
      "metadata": {
        "id": "whKoKzD0J3Ea",
        "colab_type": "text"
      },
      "source": [
        "# Step 2: Define the model architecture\n",
        "Build one DNN for Actor model and one for Actor Target"
      ]
    },
    {
      "cell_type": "code",
      "metadata": {
        "id": "XfdB7e7QnKkt",
        "colab_type": "code",
        "colab": {}
      },
      "source": [
        "class Actor(nn.Module):\n",
        "  def __init__(self, state_dims, action_dim, max_action):\n",
        "    super(Actor, self).__init__()\n",
        "    self.layer_1 = nn.Linear(state_dims, 400)\n",
        "    self.layer_2 = nn.Linear(400,300)\n",
        "    self.layer_3 = nn.Linear(300, action_dim)\n",
        "    self.max_action = max_action\n",
        "  \n",
        "  def forward(self, x):\n",
        "    x = F.relu(self.layer_1(x))\n",
        "    x = F.relu(self.layer_2(x))\n",
        "    x = self.max_action * torch.tanh(self.layer_3(x))\n",
        "    return x\n",
        "\n"
      ],
      "execution_count": 0,
      "outputs": []
    },
    {
      "cell_type": "markdown",
      "metadata": {
        "id": "3uy_iYoIUmLJ",
        "colab_type": "text"
      },
      "source": [
        "Build two DNNs for the two Critic models and two DNNs for the two Critic Targets"
      ]
    },
    {
      "cell_type": "code",
      "metadata": {
        "id": "WHA4cAXIUlbq",
        "colab_type": "code",
        "colab": {}
      },
      "source": [
        "class Critic(nn.Module):\n",
        "  def __init__(self, state_dims, action_dim):\n",
        "    super(Critic, self).__init__()\n",
        "    self.layer_1  = nn.Linear(state_dims + action_dim, 400)\n",
        "    self.layer_2 = nn.Linear(400, 300)\n",
        "    self.layer_3 = nn.Linear(300,action_dim)\n",
        "\n",
        "    def forward(self, x, u):\n",
        "      xu = torch.cat([x,u],1)\n",
        "      x1 = F.relu(self.layer_1(xu))\n",
        "      x1 = F.relu(self.layer_2(x1))\n",
        "      x1 = self.layer_3(x1)\n",
        "      #forward propagation for second critic\n",
        "      x2 = F.relu(self.layer_1(xu))\n",
        "      x2 = F.relu(self.layer_2(x2))\n",
        "      x2 = self.layer_3(x2)\n",
        "\n",
        "      return x1,x2\n",
        "\n",
        "    def Q1(self, x, u):\n",
        "      xu = torch.cat([x,u],1)\n",
        "      x1 = F.relu(self.layer_1(xu))\n",
        "      x1 = F.relu(self.layer_2(x1))\n",
        "      x1 = self.layer_3(x1)\n",
        "\n",
        "      return x1\n",
        "\n"
      ],
      "execution_count": 0,
      "outputs": []
    },
    {
      "cell_type": "markdown",
      "metadata": {
        "id": "oDsejscDZpmP",
        "colab_type": "text"
      },
      "source": [
        "# Training Process\n",
        "Create TD3 class, initialise variables"
      ]
    },
    {
      "cell_type": "code",
      "metadata": {
        "id": "0XWPxxwRdbI6",
        "colab_type": "code",
        "colab": {}
      },
      "source": [
        "class TD3(object):\n",
        "  def __init__(self, state_dims, action_dim, max_action):\n",
        "    self.actor = Actor(state_dims, action_dim, max_action).to(device)\n",
        "    self.actor_target = Actor(state_dims, action_dim, max_action).to(device)\n",
        "    self.actor_target.load_state_dict(self.actor.state_dict)\n",
        "    self.actor_optimizer = torch.optim.Adam(self.actor.parameters())\n",
        "\n",
        "    self.critic = Critic(state_dims, action_dim).to(device)\n",
        "    self.critic_target = Critic(state_dims, action_dim).to(device)\n",
        "    self.critic_target.load_state_dict(self.critic.state_dict)\n",
        "    self.critic_optimizer = torch.optim.Adam(self.critic.parameters())\n",
        "\n",
        "    self.max_action = max_action\n",
        "\n",
        "  def select_action(self, state):\n",
        "    state = torch.Tensor(state.reshape(1,-1)).to(device)\n",
        "    return self.actor(state).cpu().data.numpy().flatten()\n",
        "\n",
        "  #Sample from a batch of transitions (s, s', a, r) from the memory\n",
        "  def train(self, replay_buffer, iterations, batch_size = 100, discount = 0.99, tau = 0.005, \n",
        "            policy_noise = 0.2, noise_clip = 0.5, policy_freq = 2):\n",
        "    for it in iterations:\n",
        "      batch_states, batch_next_states, batch_actions, batch_rewards, batch_dones = replay_buffer.sample(batch_size)\n",
        "      state = torch.Tensor(batch_states).to(device)\n",
        "      next_state = torch.Tensor(batch_next_states).to(device)\n",
        "      action = torch.Tensor(batch_actions).to(device)\n",
        "      reward = torch.Tensor(batch_rewards).to(device)\n",
        "      done = torch.Tensor(batch_dones).to(device)\n",
        "      \n",
        "      #From the next state s', the actor target plays the next action a'\n",
        "      next_action = self.actor_target.forward(next_state)\n",
        "\n",
        "      #We add Gaussian noise to this next action a' and we clamp it in a range of values supported by the environment\n",
        "      noise = torch.Tensor(batch_actions).data.normal_(0, policy_noise).to(device)\n",
        "      noise = noise.clamp(-noise_clip, noice_clip)\n",
        "      next_action = (next_action + noise).clamp(-self.max_action, self.max_action)\n",
        "\n",
        "      #The two Critic targets take each the couple (s', a') as input and return two Q values, Qt1(s', a') and Qt2(s', a') as outputs\n",
        "      target_Q1, target_Q2 = self.critic_target.forward(next_state, next_action)\n",
        "\n",
        "      #Keep the minimum of these two Q-Values\n",
        "      target_Q = torch.min(target_Q1, target_Q2)\n",
        "\n",
        "      #We get the final target of the two Critic models, which is:\n",
        "      #Qt = r + gamma * min(Qt1, Qt2)\n",
        "      #target_q or Qt as reward + discount  * torch.min(Qt1, Qt2)\n",
        "      #we are only supposed to run this if the episode is over, which means we need to integrate Done\n",
        "      #target_q would create it's BP/computation graph, and without detaching Qt1/Qt2 from their own graph, we are complicating things, i.e. we need to use detach. \n",
        "      target_Q = reward + ((1-done) * discount * target_Q).detach()\n",
        "\n",
        "      #Two critic models take (s, a) and return two Q-Values\n",
        "      current_Q1, current_Q2 = self.critic.forward(state, action)\n",
        "\n",
        "      #Compute the Critic Loss\n",
        "      critic_loss = F.mse_loss(current_Q1, target_Q) + F.mse_loss(current_Q2, target_Q)\n",
        "\n",
        "      #Backpropagate this critic loss and update the parameters of two Critic models\n",
        "      self.critic_optimizer.zero_grad()\n",
        "      critic_loss.backward()\n",
        "      self.critic_optimizer.step()\n",
        "\n",
        "      #Once every two iterations, we update our Actor model by performing \n",
        "      #gradient ASCENT on the output of the first Critic model\n",
        "      if it % policy_freq == 0:\n",
        "        actor_loss = -(self.critic.Q1(state, self.actor(state)).mean())\n",
        "        self.actor_optimizer.grad_zero()\n",
        "        actor_loss.backward()\n",
        "        self.actor_optimizer.step()\n",
        "\n",
        "        for param, target_param in zip(self.actor.parameters(), self.actor_target.parameters()):\n",
        "          target_param.data.copy_(tau * param.data + (1-tau) * target_param.data)\n",
        "\n",
        "        for param, target_param in zip(self.critic.parameters(), self.critic_target.parameters()):\n",
        "          target_param.data.copy_(tau * param.data + (1-tau) * target_param.data)          \n",
        "      \n",
        "\n"
      ],
      "execution_count": 0,
      "outputs": []
    }
  ]
}